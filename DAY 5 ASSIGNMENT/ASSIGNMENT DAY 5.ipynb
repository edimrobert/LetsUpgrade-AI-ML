{
 "cells": [
  {
   "cell_type": "markdown",
   "metadata": {},
   "source": [
    "__Question 1__"
   ]
  },
  {
   "cell_type": "code",
   "execution_count": 32,
   "metadata": {},
   "outputs": [
    {
     "name": "stdout",
     "output_type": "stream",
     "text": [
      "3 5 7 11 13 17 19 23 29 31 37 41 43 47 53 59 61 67 71 73 "
     ]
    }
   ],
   "source": [
    "a = 1\n",
    "b = 75\n",
    "  \n",
    "for i in range(a,b + 1): \n",
    "    if i > 1: \n",
    "        for n in range(2, val//2 + 2): \n",
    "            if (i % n) == 0: \n",
    "                break\n",
    "            else: \n",
    "                if n == i//2 + 1: \n",
    "                    print(i,end=\" \") "
   ]
  },
  {
   "cell_type": "markdown",
   "metadata": {},
   "source": [
    "__Question 3__"
   ]
  },
  {
   "cell_type": "code",
   "execution_count": null,
   "metadata": {},
   "outputs": [],
   "source": [
    "def palin():\n",
    "    a=list(input(\"Enter your String\"))\n",
    "    print(a)\n",
    "    for i in range(0,len(a)):\n",
    "        if a[i]==a[len(a)-(i+1)]:\n",
    "            palindrone=True\n",
    "        else:\n",
    "            palindrone=False\n",
    "            break\n",
    "    if palindrone == True:\n",
    "        print(\"Given String is Palindrone\")\n",
    "    else:\n",
    "        print(\"Given String is not palindrone\")\n",
    "    \n",
    "def anagram():\n",
    "    first_string=list(input(\"Enter your First string\"))\n",
    "    print(first_string)\n",
    "    second_string=list(input(\"Enter Your Second String\"))\n",
    "    print(second_string)\n",
    "    for i in second_string:\n",
    "        if i in first_string:\n",
    "            Anagram_condition=True\n",
    "        else:\n",
    "            Anagram_condition=False\n",
    "            break\n",
    "        \n",
    "    if Anagram_condition==True:\n",
    "        print(\"Given string is Anagram\")\n",
    "    else:\n",
    "        print(\"Given string is not an Anagram\")\n",
    "        \n",
    "Choice=int(input(\"Select 1 To Check If String Is Palindrone Or Not /n Select 2 To Check If String Is Anagram Or Not\"))\n",
    "\n",
    "Anagram_condition=False\n",
    "palindrone=False\n",
    "\n",
    "if Choice==1:\n",
    "    palin()\n",
    "else:\n",
    "    anagram()\n",
    "    \n",
    "    \n",
    "if palindrone==True and Anagram_condition ==True:\n",
    "    print(\"Given String is palindrone & Anagram\")\n",
    "elif palindrone==True:\n",
    "    print(\"Given String is palidrone\")\n",
    "elif Anagram_condition==True:\n",
    "    print(\"Given String is Anagram\")\n",
    "else:\n",
    "    print(\"None Of them!\")"
   ]
  },
  {
   "cell_type": "markdown",
   "metadata": {},
   "source": [
    "__Question2__"
   ]
  },
  {
   "cell_type": "code",
   "execution_count": 1,
   "metadata": {},
   "outputs": [
    {
     "name": "stdout",
     "output_type": "stream",
     "text": [
      "HELLO WORLD\n"
     ]
    }
   ],
   "source": [
    "#String upper case\n",
    "str= 'Hello World'\n",
    "\n",
    "print(str.upper())"
   ]
  },
  {
   "cell_type": "code",
   "execution_count": 2,
   "metadata": {},
   "outputs": [
    {
     "name": "stdout",
     "output_type": "stream",
     "text": [
      "hello world\n"
     ]
    }
   ],
   "source": [
    "#String lower case\n",
    "str= 'Hello World'\n",
    "print(str.lower())"
   ]
  },
  {
   "cell_type": "code",
   "execution_count": 3,
   "metadata": {},
   "outputs": [
    {
     "data": {
      "text/plain": [
       "str"
      ]
     },
     "execution_count": 3,
     "metadata": {},
     "output_type": "execute_result"
    }
   ],
   "source": [
    "str= 'Hello World'\n",
    "type(str)"
   ]
  },
  {
   "cell_type": "code",
   "execution_count": null,
   "metadata": {},
   "outputs": [],
   "source": []
  }
 ],
 "metadata": {
  "kernelspec": {
   "display_name": "Python 3",
   "language": "python",
   "name": "python3"
  }
 },
 "nbformat": 4,
 "nbformat_minor": 2
}
