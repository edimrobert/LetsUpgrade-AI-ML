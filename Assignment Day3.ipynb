{
 "cells": [
  {
   "cell_type": "markdown",
   "metadata": {},
   "source": [
    "Question1"
   ]
  },
  {
   "cell_type": "markdown",
   "metadata": {},
   "source": [
    "Numpy array starting from 2 till 50 with a stepsize of 3"
   ]
  },
  {
   "cell_type": "code",
   "execution_count": null,
   "metadata": {},
   "outputs": [],
   "source": [
    "import numpy as np\n",
    "arr=np.arange(2,50,3)\n",
    "print(arr)"
   ]
  },
  {
   "cell_type": "markdown",
   "metadata": {},
   "source": [
    "Question2"
   ]
  },
  {
   "cell_type": "markdown",
   "metadata": {},
   "source": [
    "Accept two lists of 5 elements each from the user.\n",
    "Convert them to numpy arrays. Concatenate these arrays and print it. Also sort these arrays and print it."
   ]
  },
  {
   "cell_type": "code",
   "execution_count": 2,
   "metadata": {},
   "outputs": [
    {
     "name": "stdout",
     "output_type": "stream",
     "text": [
      "Enter your 5 numbers in your 1st list:\n",
      "22222\n",
      "33333\n",
      "3333\n",
      "333\n",
      "3333\n",
      "Enter your 5 elements in your 2nd list:\n",
      "33333\n",
      "333\n",
      "1\n",
      "1\n",
      "1\n",
      "After Concatination:\n",
      " [22222 33333  3333   333  3333 33333   333     1     1     1]\n",
      "Your sorted array:\n",
      " [    1     1     1   333   333  3333  3333 22222 33333 33333]\n"
     ]
    }
   ],
   "source": [
    "import numpy as np\n",
    "list1=[]\n",
    "print(\"Enter your 5 numbers in your 1st list:\")\n",
    "for i in range(5):\n",
    "    n=int(input())\n",
    "    list1.append(n)\n",
    "a=np.array(list1)\n",
    "list2=[]\n",
    "print(\"Enter your 5 elements in your 2nd list:\")\n",
    "for i in range(5):\n",
    "    m=int(input())\n",
    "    list2.append(m)\n",
    "b=np.array(list2)\n",
    "c=np.concatenate([a, b])\n",
    "print(\"After Concatination:\\n\",c)\n",
    "d=np.sort(c)\n",
    "print(\"Your sorted array:\\n\",d)\n"
   ]
  },
  {
   "cell_type": "markdown",
   "metadata": {},
   "source": [
    "Question3"
   ]
  },
  {
   "cell_type": "markdown",
   "metadata": {},
   "source": [
    "Write a code snippet to find the dimensions of a ndarray and its size"
   ]
  },
  {
   "cell_type": "code",
   "execution_count": 7,
   "metadata": {},
   "outputs": [
    {
     "name": "stdout",
     "output_type": "stream",
     "text": [
      "[[ 1  2  3]\n",
      " [ 4  5  6]\n",
      " [ 7  8  9]\n",
      " [10 11 12]\n",
      " [13 14 15]]\n",
      "No. of dimensions of the given array is:  2\n",
      "Size of given array is:  15\n"
     ]
    }
   ],
   "source": [
    "import numpy as np\n",
    "arr=np.array([[1,2,3],[4,5,6],[7,8,9],[10,11,12],[13,14,15]])\n",
    "print(arr)\n",
    "print(\"No. of dimensions of the given array is: \", arr.ndim)\n",
    "print(\"Size of given array is: \", arr.size)\n"
   ]
  },
  {
   "cell_type": "markdown",
   "metadata": {},
   "source": [
    "Question4"
   ]
  },
  {
   "cell_type": "markdown",
   "metadata": {},
   "source": [
    "How to convert a 1D array into a 2D array? Demonstrate with the help of a code snippet\n",
    "Hint: np.newaxis, np.expand_dims"
   ]
  },
  {
   "cell_type": "code",
   "execution_count": 9,
   "metadata": {},
   "outputs": [
    {
     "name": "stdout",
     "output_type": "stream",
     "text": [
      "****** Converting 1-D array into 2D array******\n",
      "\n",
      "---By using 'np.newaxis' Method---\n",
      "\n",
      "[0 1 2 3]\n",
      "Shape of the Array:  (4,)\n",
      "Row Vector:\n",
      "Shape of the array:  (1, 4)\n",
      "Column Vector:\n",
      "Shape of the array:  (4, 1)\n",
      "\n",
      "---By Using 'np.expand_dims' Method---\n",
      "\n",
      "[0 1 2 3 4 5 6 7 8 9]\n",
      "[[0]\n",
      " [1]\n",
      " [2]\n",
      " [3]\n",
      " [4]\n",
      " [5]\n",
      " [6]\n",
      " [7]\n",
      " [8]\n",
      " [9]]\n",
      "[[0 1 2 3 4 5 6 7 8 9]]\n",
      "\n",
      "---By Using 'reshape' Method---\n",
      "[1 2 3 4 5 6 7 8 9]\n",
      "(9,)\n",
      "Dimension:  1\n",
      "[[1 2 3]\n",
      " [4 5 6]\n",
      " [7 8 9]]\n",
      "(3, 3)\n",
      "Dimension:  2\n"
     ]
    }
   ],
   "source": [
    "import numpy as np\n",
    "print(\"****** Converting 1-D array into 2D array******\")\n",
    "print()\n",
    "#we can use np.newaxis to increase the dimension of one of the arrays so that NumPy can broadcast.\n",
    "print(\"---By using 'np.newaxis' Method---\\n\")\n",
    "# 1D array\n",
    "arr = np.arange(4)\n",
    "print(arr)\n",
    "print(\"Shape of the Array: \",arr.shape)\n",
    "# make it as row vector by inserting an axis along first dimension\n",
    "row_vec = arr[np.newaxis, :]     # arr[None, :]\n",
    "print(\"Row Vector:\")\n",
    "print(\"Shape of the array: \",row_vec.shape)\n",
    "# make it as column vector by inserting an axis along second dimension\n",
    "col_vec = arr[:, np.newaxis]     # arr[:, None]\n",
    "print(\"Column Vector:\")\n",
    "print(\"Shape of the array: \",col_vec.shape)\n",
    "print()\n",
    "#There is another very similar functionality in NumPy: np.expand_dims, which can also be used to insert one dimension:\n",
    "print(\"---By Using 'np.expand_dims' Method---\\n\")\n",
    "a = np.arange(10)\n",
    "print(a)\n",
    "print(np.expand_dims(a, 1))  # like a[:, np.newaxis]\n",
    "print(np.expand_dims(a, 0))\n",
    "print()\n",
    "print(\"---By Using 'reshape' Method---\")\n",
    "x1 = np.arange(1,10)\n",
    "print(x1)\n",
    "print(x1.shape)\n",
    "print(\"Dimension: \",x1.ndim)\n",
    "x1=np.arange(1,10).reshape(3,3)\n",
    "print(x1)\n",
    "print(x1.shape)\n",
    "print(\"Dimension: \",x1.ndim)"
   ]
  },
  {
   "cell_type": "markdown",
   "metadata": {},
   "source": [
    "Question5"
   ]
  },
  {
   "cell_type": "markdown",
   "metadata": {},
   "source": [
    "Consider two square numpy arrays. Stack them vertically and horizontally."
   ]
  },
  {
   "cell_type": "code",
   "execution_count": 13,
   "metadata": {},
   "outputs": [
    {
     "name": "stdout",
     "output_type": "stream",
     "text": [
      "Vertical stacking:\n",
      " [[1 2]\n",
      " [3 4]\n",
      " [5 6]\n",
      " [7 8]]\n",
      "\n",
      "Horizontal stacking:\n",
      " [[1 2 5 6]\n",
      " [3 4 7 8]]\n"
     ]
    }
   ],
   "source": [
    "import numpy as np\n",
    "a = np.array([[1, 2],\n",
    "              [3, 4]])\n",
    "b = np.array([[5, 6],\n",
    "              [7, 8]])\n",
    "print(\"Vertical stacking:\\n\", np.vstack((a, b)))\n",
    "print(\"\\nHorizontal stacking:\\n\", np.hstack((a, b)))"
   ]
  },
  {
   "cell_type": "markdown",
   "metadata": {},
   "source": [
    "Question6"
   ]
  },
  {
   "cell_type": "markdown",
   "metadata": {},
   "source": [
    "How to get unique items and counts of unique items"
   ]
  },
  {
   "cell_type": "code",
   "execution_count": 14,
   "metadata": {},
   "outputs": [
    {
     "name": "stdout",
     "output_type": "stream",
     "text": [
      "Original Numpy Array:\n",
      "  [11 11 12 13 14 15 16 17 12 13 11 14 18]\n",
      "Unique Values :\n",
      "  [11 12 13 14 15 16 17 18]\n",
      "Occurrence Count :\n",
      "  [3 2 2 2 1 1 1 1]\n",
      "Unique Values along with occurrence Count\n",
      "11  Occurs :  3  times\n",
      "12  Occurs :  2  times\n",
      "13  Occurs :  2  times\n",
      "14  Occurs :  2  times\n",
      "15  Occurs :  1  times\n",
      "16  Occurs :  1  times\n",
      "17  Occurs :  1  times\n",
      "18  Occurs :  1  times\n"
     ]
    }
   ],
   "source": [
    "import numpy as np\n",
    "arr = np.array([11, 11, 12, 13, 14, 15, 16, 17, 12, 13, 11, 14, 18])\n",
    "print('Original Numpy Array:\\n ', arr)\n",
    "uniqueValues, occurCount = np.unique(arr, return_counts=True)\n",
    "print('Unique Values :\\n ',uniqueValues)\n",
    "print(\"Occurrence Count :\\n \", occurCount)\n",
    "print('Unique Values along with occurrence Count')\n",
    "listOfUniqueValues = zip(uniqueValues, occurCount)\n",
    "for elem in listOfUniqueValues:\n",
    "   print(elem[0] , ' Occurs : ' , elem[1], ' times')"
   ]
  },
  {
   "cell_type": "code",
   "execution_count": null,
   "metadata": {},
   "outputs": [],
   "source": []
  }
 ],
 "metadata": {
  "kernelspec": {
   "display_name": "Python 3",
   "language": "python",
   "name": "python3"
  },
  "language_info": {
   "codemirror_mode": {
    "name": "ipython",
    "version": 3
   },
   "file_extension": ".py",
   "mimetype": "text/x-python",
   "name": "python",
   "nbconvert_exporter": "python",
   "pygments_lexer": "ipython3",
   "version": "3.6.5"
  }
 },
 "nbformat": 4,
 "nbformat_minor": 2
}
